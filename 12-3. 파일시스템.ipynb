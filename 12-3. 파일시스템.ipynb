{
 "cells": [
  {
   "cell_type": "code",
   "execution_count": 1,
   "metadata": {},
   "outputs": [],
   "source": [
    "import os"
   ]
  },
  {
   "cell_type": "code",
   "execution_count": 2,
   "metadata": {},
   "outputs": [
    {
     "data": {
      "text/plain": [
       "['jupyter_lab.bat',\n",
       " '.ipynb_checkpoints',\n",
       " '05-1. 문자열.ipynb',\n",
       " '06-1. 리스트.ipynb',\n",
       " '06-3. 튜플.ipynb',\n",
       " '07-1. 셋.ipynb',\n",
       " '08-2. 조건문.ipynb',\n",
       " '03-1. 연산자.ipynb',\n",
       " '04-1. 변수.ipynb',\n",
       " '04-2. 자료형.ipynb',\n",
       " '04-3. 형변환.ipynb',\n",
       " '05-2. 문자열 함수.ipynb',\n",
       " '05-3. 문자열 포맷팅.ipynb',\n",
       " '06-2. 리스트 인덱싱과 슬라이싱.ipynb',\n",
       " '07-2. 셋의 집합연산.ipynb',\n",
       " '08-1. 비교 논리 연산자.ipynb',\n",
       " '08-3. 중첩 복합 조건문.ipynb',\n",
       " '09-1. for 반복문.ipynb',\n",
       " '09-2. while 반복문.ipynb',\n",
       " '09-3. 리스트 컴프리헨션.ipynb',\n",
       " '10-2. 사용자정의 함수.ipynb',\n",
       " '10-3. 함수의 매개변수.ipynb',\n",
       " '11-2. 파이썬 모듈 활용.ipynb',\n",
       " '11-3. 사용자 정의 모듈.ipynb',\n",
       " '03-3. 내장함수.ipynb',\n",
       " '07-3. 딕셔너리.ipynb',\n",
       " 'myprint.py',\n",
       " '__pycache__',\n",
       " 'mymodule',\n",
       " '12-1. 파일입력.ipynb',\n",
       " '12-2. 파일출력.ipynb',\n",
       " '12-3. 파일시스템.ipynb',\n",
       " '12-1. hello.txt',\n",
       " 'hello_write.txt']"
      ]
     },
     "execution_count": 2,
     "metadata": {},
     "output_type": "execute_result"
    }
   ],
   "source": [
    "os.listdir('.')"
   ]
  },
  {
   "cell_type": "code",
   "execution_count": 23,
   "metadata": {},
   "outputs": [],
   "source": [
    "file_list = os.listdir('.')"
   ]
  },
  {
   "cell_type": "code",
   "execution_count": 24,
   "metadata": {},
   "outputs": [],
   "source": [
    "file_ipynb = [ f for f in file_list if f.endswith('.ipynb')]"
   ]
  },
  {
   "cell_type": "code",
   "execution_count": 25,
   "metadata": {},
   "outputs": [
    {
     "data": {
      "text/plain": [
       "['05-1. 문자열.ipynb',\n",
       " '06-1. 리스트.ipynb',\n",
       " '06-3. 튜플.ipynb',\n",
       " '07-1. 셋.ipynb',\n",
       " '08-2. 조건문.ipynb',\n",
       " '03-1. 연산자.ipynb',\n",
       " '04-1. 변수.ipynb',\n",
       " '04-2. 자료형.ipynb',\n",
       " '04-3. 형변환.ipynb',\n",
       " '05-2. 문자열 함수.ipynb',\n",
       " '05-3. 문자열 포맷팅.ipynb',\n",
       " '06-2. 리스트 인덱싱과 슬라이싱.ipynb',\n",
       " '07-2. 셋의 집합연산.ipynb',\n",
       " '08-1. 비교 논리 연산자.ipynb',\n",
       " '08-3. 중첩 복합 조건문.ipynb',\n",
       " '09-1. for 반복문.ipynb',\n",
       " '09-2. while 반복문.ipynb',\n",
       " '09-3. 리스트 컴프리헨션.ipynb',\n",
       " '10-2. 사용자정의 함수.ipynb',\n",
       " '10-3. 함수의 매개변수.ipynb',\n",
       " '11-2. 파이썬 모듈 활용.ipynb',\n",
       " '11-3. 사용자 정의 모듈.ipynb',\n",
       " '03-3. 내장함수.ipynb',\n",
       " '07-3. 딕셔너리.ipynb',\n",
       " '12-1. 파일입력.ipynb',\n",
       " '12-2. 파일출력.ipynb',\n",
       " '12-3. 파일시스템.ipynb',\n",
       " '01-2.python_basic2.ipynb']"
      ]
     },
     "execution_count": 25,
     "metadata": {},
     "output_type": "execute_result"
    }
   ],
   "source": [
    "file_ipynb"
   ]
  },
  {
   "cell_type": "code",
   "execution_count": 3,
   "metadata": {},
   "outputs": [
    {
     "data": {
      "text/plain": [
       "'G:\\\\sync\\\\파이썬\\\\2021\\\\실습자료'"
      ]
     },
     "execution_count": 3,
     "metadata": {},
     "output_type": "execute_result"
    }
   ],
   "source": [
    "os.getcwd()"
   ]
  },
  {
   "cell_type": "code",
   "execution_count": 6,
   "metadata": {},
   "outputs": [],
   "source": [
    "os.mkdir('test')"
   ]
  },
  {
   "cell_type": "code",
   "execution_count": 7,
   "metadata": {},
   "outputs": [
    {
     "data": {
      "text/plain": [
       "'.\\\\test'"
      ]
     },
     "execution_count": 7,
     "metadata": {},
     "output_type": "execute_result"
    }
   ],
   "source": [
    "os.path.join('.', 'test')"
   ]
  },
  {
   "cell_type": "code",
   "execution_count": 12,
   "metadata": {},
   "outputs": [
    {
     "data": {
      "text/plain": [
       "'G:\\\\sync\\\\파이썬\\\\2021\\\\실습자료\\\\hello_write.txt'"
      ]
     },
     "execution_count": 12,
     "metadata": {},
     "output_type": "execute_result"
    }
   ],
   "source": [
    "os.path.abspath('hello_write.txt')"
   ]
  },
  {
   "cell_type": "code",
   "execution_count": 13,
   "metadata": {},
   "outputs": [
    {
     "data": {
      "text/plain": [
       "True"
      ]
     },
     "execution_count": 13,
     "metadata": {},
     "output_type": "execute_result"
    }
   ],
   "source": [
    "os.path.isfile('hello_write.txt')"
   ]
  },
  {
   "cell_type": "code",
   "execution_count": 14,
   "metadata": {},
   "outputs": [
    {
     "data": {
      "text/plain": [
       "False"
      ]
     },
     "execution_count": 14,
     "metadata": {},
     "output_type": "execute_result"
    }
   ],
   "source": [
    "os.path.isdir('hello_write.txt')"
   ]
  },
  {
   "cell_type": "code",
   "execution_count": 15,
   "metadata": {},
   "outputs": [
    {
     "data": {
      "text/plain": [
       "False"
      ]
     },
     "execution_count": 15,
     "metadata": {},
     "output_type": "execute_result"
    }
   ],
   "source": [
    "os.path.isfile('test')"
   ]
  },
  {
   "cell_type": "code",
   "execution_count": 17,
   "metadata": {},
   "outputs": [
    {
     "data": {
      "text/plain": [
       "True"
      ]
     },
     "execution_count": 17,
     "metadata": {},
     "output_type": "execute_result"
    }
   ],
   "source": [
    "os.path.isdir('test')"
   ]
  },
  {
   "cell_type": "code",
   "execution_count": 18,
   "metadata": {},
   "outputs": [
    {
     "data": {
      "text/plain": [
       "('G:\\\\sync\\\\파이썬\\\\2021\\\\실습자료', 'hello_write.txt')"
      ]
     },
     "execution_count": 18,
     "metadata": {},
     "output_type": "execute_result"
    }
   ],
   "source": [
    "os.path.split(os.path.abspath('hello_write.txt'))"
   ]
  },
  {
   "cell_type": "code",
   "execution_count": 20,
   "metadata": {},
   "outputs": [
    {
     "data": {
      "text/plain": [
       "('hello_write', '.txt')"
      ]
     },
     "execution_count": 20,
     "metadata": {},
     "output_type": "execute_result"
    }
   ],
   "source": [
    "os.path.splitext('hello_write.txt')"
   ]
  },
  {
   "cell_type": "code",
   "execution_count": null,
   "metadata": {},
   "outputs": [],
   "source": []
  },
  {
   "cell_type": "code",
   "execution_count": null,
   "metadata": {},
   "outputs": [],
   "source": []
  }
 ],
 "metadata": {
  "kernelspec": {
   "display_name": "Python 3",
   "language": "python",
   "name": "python3"
  },
  "language_info": {
   "codemirror_mode": {
    "name": "ipython",
    "version": 3
   },
   "file_extension": ".py",
   "mimetype": "text/x-python",
   "name": "python",
   "nbconvert_exporter": "python",
   "pygments_lexer": "ipython3",
   "version": "3.8.3"
  }
 },
 "nbformat": 4,
 "nbformat_minor": 4
}
